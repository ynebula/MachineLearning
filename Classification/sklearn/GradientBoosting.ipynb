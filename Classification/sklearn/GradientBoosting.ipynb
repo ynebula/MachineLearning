{
 "cells": [
  {
   "cell_type": "code",
   "execution_count": 1,
   "metadata": {},
   "outputs": [],
   "source": [
    "# -*- coding:utf-8 -*-\n",
    "from sklearn.datasets import load_iris\n",
    "from sklearn.ensemble import GradientBoostingClassifier\n",
    "from sklearn.model_selection import train_test_split\n",
    "from sklearn.preprocessing import StandardScaler\n",
    "from sklearn.model_selection import GridSearchCV\n",
    "\n",
    "import numpy as np"
   ]
  },
  {
   "cell_type": "code",
   "execution_count": 2,
   "metadata": {},
   "outputs": [],
   "source": [
    "# 분류용 샘플 데이터 불러오기\n",
    "iris = load_iris()\n",
    "X, y, labels = iris.data, iris.target, iris.target_names\n",
    "\n",
    "# 학습/테스트 데이터셋 분할\n",
    "X_train, X_test, y_train, y_test = train_test_split(X, y, test_size=0.3, random_state=1, stratify=y)\n",
    "\n",
    "# 데이터 전처리(표준화, Standardization)\n",
    "std = StandardScaler()\n",
    "X_train_std = std.fit_transform(X_train)\n",
    "X_test_std = std.transform(X_test)"
   ]
  },
  {
   "cell_type": "code",
   "execution_count": 3,
   "metadata": {},
   "outputs": [
    {
     "name": "stdout",
     "output_type": "stream",
     "text": [
      "베스트 하이퍼 파라미터: {'learning_rate': 0.30000000000000004, 'max_depth': 3, 'max_features': 1, 'n_estimators': 5}\n",
      "베스트 하이퍼 파라미터 일 때 정확도: 0.96\n",
      "테스트세트에서의 정확도: 0.98\n",
      "실제 값: virginica, 예측 값: virginica\n",
      "실제 값: setosa, 예측 값: setosa\n",
      "실제 값: setosa, 예측 값: setosa\n",
      "실제 값: virginica, 예측 값: versicolor\n",
      "실제 값: versicolor, 예측 값: versicolor\n",
      "실제 값: versicolor, 예측 값: versicolor\n",
      "실제 값: virginica, 예측 값: virginica\n",
      "실제 값: versicolor, 예측 값: versicolor\n",
      "실제 값: virginica, 예측 값: virginica\n",
      "실제 값: setosa, 예측 값: setosa\n"
     ]
    }
   ],
   "source": [
    "# 그래디언트부스팅 + 그리드서치로 모델 학습\n",
    "gb = GradientBoostingClassifier(random_state=1)\n",
    "param_grid = [{'n_estimators': range(5, 50, 10), 'max_features': range(1, 4),\n",
    "               'max_depth': range(3, 5), 'learning_rate': np.linspace(0.1, 1, 10)}]\n",
    "gs = GridSearchCV(estimator=gb, param_grid=param_grid, scoring='accuracy', cv=5, n_jobs=-1)\n",
    "gs.fit(X_train_std, y_train)\n",
    "\n",
    "# 그리드서치 학습 결과 출력\n",
    "print('베스트 하이퍼 파라미터: {0}'.format(gs.best_params_))\n",
    "print('베스트 하이퍼 파라미터 일 때 정확도: {0:.2f}'.format(gs.best_score_))\n",
    "\n",
    "# 최적화 모델 추출\n",
    "model = gs.best_estimator_\n",
    "\n",
    "# 테스트세트 정확도 출력\n",
    "score = model.score(X_test_std, y_test)\n",
    "print('테스트세트에서의 정확도: {0:.2f}'.format(score))\n",
    "\n",
    "# 테스트세트 예측 결과 샘플 출력\n",
    "predicted_y = model.predict(X_test_std)\n",
    "for i in range(10):\n",
    "    print('실제 값: {0}, 예측 값: {1}'.format(labels[y_test[i]], labels[predicted_y[i]]))"
   ]
  },
  {
   "cell_type": "code",
   "execution_count": null,
   "metadata": {},
   "outputs": [],
   "source": []
  }
 ],
 "metadata": {
  "kernelspec": {
   "display_name": "Python 3",
   "language": "python",
   "name": "python3"
  },
  "language_info": {
   "codemirror_mode": {
    "name": "ipython",
    "version": 3
   },
   "file_extension": ".py",
   "mimetype": "text/x-python",
   "name": "python",
   "nbconvert_exporter": "python",
   "pygments_lexer": "ipython3",
   "version": "3.7.6"
  }
 },
 "nbformat": 4,
 "nbformat_minor": 4
}
