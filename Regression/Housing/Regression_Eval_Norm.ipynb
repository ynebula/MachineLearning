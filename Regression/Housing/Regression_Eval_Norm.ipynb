{
 "cells": [
  {
   "cell_type": "code",
   "execution_count": 4,
   "metadata": {},
   "outputs": [],
   "source": [
    "%matplotlib inline\n",
    "import pandas as pd\n",
    "import matplotlib.pyplot as plt\n",
    "import seaborn as sns\n",
    "import numpy as np\n",
    "from sklearn.linear_model import LinearRegression\n",
    "from sklearn.model_selection import train_test_split"
   ]
  },
  {
   "cell_type": "code",
   "execution_count": 5,
   "metadata": {},
   "outputs": [],
   "source": [
    "df = pd.read_csv(\"../data/housing.data\", header=None, sep=\"\\s+\")\n",
    "df.columns = ['CRIM', 'ZN', 'INDUS', 'CHAS', 'NOX', 'RM', 'AGE', 'DIS', 'RAD', 'TAX', 'PTRATIO', 'B', 'LSTAT', 'MEDV']"
   ]
  },
  {
   "cell_type": "code",
   "execution_count": 6,
   "metadata": {},
   "outputs": [],
   "source": [
    "X = df.iloc[:,:-1].values # MEDV를 제외한\n",
    "Y = df['MEDV'].values"
   ]
  },
  {
   "cell_type": "markdown",
   "metadata": {},
   "source": [
    "train_test_split(arrays, test_size, train_size, random_state, shuffle, stratify)\n",
    "\n",
    "(1) Parameter\n",
    "\n",
    "arrays : 분할시킬 데이터를 입력 (Python list, Numpy array, Pandas dataframe 등..)\n",
    "\n",
    "test_size : 테스트 데이터셋의 비율(float)이나 갯수(int) (default = 0.25)\n",
    "\n",
    "train_size : 학습 데이터셋의 비율(float)이나 갯수(int) (default = test_size의 나머지)\n",
    "\n",
    "random_state : 데이터 분할시 셔플이 이루어지는데 이를 위한 시드값 (int나 RandomState로 입력)\n",
    "\n",
    "shuffle : 셔플여부설정 (default = True)\n",
    "\n",
    "stratify : 지정한 Data의 비율을 유지한다. 예를 들어, Label Set인 Y가 25%의 0과 75%의 1로 이루어진 Binary Set일 때, stratify=Y로 설정하면 나누어진 데이터셋들도 0과 1을 각각 25%, 75%로 유지한 채 분할된다.\n",
    "\n",
    "​\n",
    "\n",
    "(2) Return\n",
    "\n",
    "X_train, X_test, Y_train, Y_test : arrays에 데이터와 레이블을 둘 다 넣었을 경우의 반환이며, 데이터와 레이블의 순서쌍은 유지된다.\n",
    "\n",
    "X_train, X_test : arrays에 레이블 없이 데이터만 넣었을 경우의 반환\n",
    "[출처] [Python] sklearn의 train_test_split() 사용법|작성자 Paris Lee"
   ]
  },
  {
   "cell_type": "code",
   "execution_count": 7,
   "metadata": {},
   "outputs": [],
   "source": [
    "train_data, test_data, tarin_label, test_label =  train_test_split(X, Y, test_size=0.3, random_state=321)"
   ]
  },
  {
   "cell_type": "code",
   "execution_count": 8,
   "metadata": {},
   "outputs": [
    {
     "data": {
      "text/plain": [
       "((354, 13), (354,), (152, 13), (152,))"
      ]
     },
     "execution_count": 8,
     "metadata": {},
     "output_type": "execute_result"
    }
   ],
   "source": [
    "train_data.shape, tarin_label.shape, test_data.shape, test_label.shape"
   ]
  },
  {
   "cell_type": "markdown",
   "metadata": {},
   "source": [
    "## Linear Model"
   ]
  },
  {
   "cell_type": "code",
   "execution_count": 9,
   "metadata": {},
   "outputs": [
    {
     "data": {
      "text/plain": [
       "LinearRegression()"
      ]
     },
     "execution_count": 9,
     "metadata": {},
     "output_type": "execute_result"
    }
   ],
   "source": [
    "model = LinearRegression()\n",
    "model.fit(train_data, tarin_label)"
   ]
  },
  {
   "cell_type": "code",
   "execution_count": 10,
   "metadata": {},
   "outputs": [],
   "source": [
    "train_pred = model.predict(train_data)\n",
    "test_pred = model.predict(test_data)"
   ]
  },
  {
   "cell_type": "code",
   "execution_count": 11,
   "metadata": {},
   "outputs": [
    {
     "name": "stderr",
     "output_type": "stream",
     "text": [
      "C:\\Users\\ynebu\\Anaconda3\\envs\\test\\lib\\site-packages\\matplotlib\\backends\\backend_agg.py:214: RuntimeWarning: Glyph 8722 missing from current font.\n",
      "  font.set_text(s, 0.0, flags=flags)\n",
      "C:\\Users\\ynebu\\Anaconda3\\envs\\test\\lib\\site-packages\\matplotlib\\backends\\backend_agg.py:183: RuntimeWarning: Glyph 8722 missing from current font.\n",
      "  font.set_text(s, 0, flags=flags)\n"
     ]
    },
    {
     "data": {
      "image/png": "[encoded data removed]",
      "text/plain": [
       "<Figure size 432x288 with 1 Axes>"
      ]
     },
     "metadata": {
      "needs_background": "light"
     },
     "output_type": "display_data"
    }
   ],
   "source": [
    "plt.rc('font', family='Malgun Gothic') #한글 폰트 설정\n",
    "plt.scatter(train_pred, train_pred-tarin_label, c='blue', marker='o', label='트레이닝 데이터')\n",
    "plt.scatter(test_pred, test_pred-test_label, c='lightgreen', marker='s', label='테스트 데이터')\n",
    "plt.hlines(y=0, xmin=-10, xmax=50, lw=2, color='r', linewidth=1) # 가로선 긋기\n",
    "plt.xlim([-10, 50])\n",
    "plt.title('[다중설명변수-주택가격] 잔차 분석 그림\\n')\n",
    "plt.xlabel('예측값')\n",
    "plt.ylabel('잔차')\n",
    "plt.show()"
   ]
  },
  {
   "cell_type": "markdown",
   "metadata": {},
   "source": [
    "## MSE and R^2(결정계수)"
   ]
  },
  {
   "cell_type": "code",
   "execution_count": 12,
   "metadata": {},
   "outputs": [],
   "source": [
    "from sklearn.metrics import mean_squared_error\n",
    "from sklearn.metrics import r2_score"
   ]
  },
  {
   "cell_type": "code",
   "execution_count": 13,
   "metadata": {},
   "outputs": [],
   "source": [
    "mse_train = mean_squared_error(tarin_label, train_pred)\n",
    "mse_test = mean_squared_error(test_label, test_pred)\n",
    "\n",
    "r2_score_train = r2_score(tarin_label, train_pred)\n",
    "r2_score_test = r2_score(test_label, test_pred)"
   ]
  },
  {
   "cell_type": "code",
   "execution_count": 14,
   "metadata": {},
   "outputs": [
    {
     "name": "stdout",
     "output_type": "stream",
     "text": [
      "MSE - 트레이닝 데이터: 22.33, 테스트 데이터: 21.55\n",
      "R2 - 트레이닝 데이터: 0.74, 테스트 데이터: 0.73\n"
     ]
    }
   ],
   "source": [
    "print('MSE - 트레이닝 데이터: %.2f, 테스트 데이터: %.2f' %(mse_train, mse_test))\n",
    "print('R2 - 트레이닝 데이터: %.2f, 테스트 데이터: %.2f' %(r2_score_train, r2_score_test))"
   ]
  },
  {
   "cell_type": "markdown",
   "metadata": {},
   "source": [
    "## 정규화 - Normalization\n",
    "- 리지회귀\n",
    "- 라쏘\n",
    "- Elastic Net"
   ]
  },
  {
   "cell_type": "code",
   "execution_count": 15,
   "metadata": {},
   "outputs": [],
   "source": [
    "from sklearn.linear_model import Ridge\n",
    "from sklearn.linear_model import Lasso\n",
    "from sklearn.linear_model import ElasticNet"
   ]
  },
  {
   "cell_type": "markdown",
   "metadata": {},
   "source": [
    "## Normal Model"
   ]
  },
  {
   "cell_type": "code",
   "execution_count": 17,
   "metadata": {},
   "outputs": [
    {
     "data": {
      "text/plain": [
       "Ridge()"
      ]
     },
     "execution_count": 17,
     "metadata": {},
     "output_type": "execute_result"
    }
   ],
   "source": [
    "norm_model = Ridge(alpha=1.0)\n",
    "#norm_model = Lasso(alpha=1.0)\n",
    "#norm_model = ElasticNet(alpha=1.0, l1_ratio=0.5)\n",
    "norm_model.fit(train_data, tarin_label)"
   ]
  },
  {
   "cell_type": "code",
   "execution_count": 18,
   "metadata": {},
   "outputs": [],
   "source": [
    "norm_train_pred = model.predict(train_data)\n",
    "norm_test_pred = model.predict(test_data)"
   ]
  },
  {
   "cell_type": "code",
   "execution_count": 19,
   "metadata": {},
   "outputs": [
    {
     "name": "stderr",
     "output_type": "stream",
     "text": [
      "C:\\Users\\ynebu\\Anaconda3\\envs\\test\\lib\\site-packages\\matplotlib\\backends\\backend_agg.py:214: RuntimeWarning: Glyph 8722 missing from current font.\n",
      "  font.set_text(s, 0.0, flags=flags)\n",
      "C:\\Users\\ynebu\\Anaconda3\\envs\\test\\lib\\site-packages\\matplotlib\\backends\\backend_agg.py:183: RuntimeWarning: Glyph 8722 missing from current font.\n",
      "  font.set_text(s, 0, flags=flags)\n"
     ]
    },
    {
     "data": {
      "image/png": "[encoded data removed]",
      "text/plain": [
       "<Figure size 432x288 with 1 Axes>"
      ]
     },
     "metadata": {
      "needs_background": "light"
     },
     "output_type": "display_data"
    }
   ],
   "source": [
    "plt.rc('font', family='Malgun Gothic') #한글 폰트 설정\n",
    "plt.scatter(norm_train_pred, norm_train_pred-tarin_label, c='blue', marker='o', label='트레이닝 데이터')\n",
    "plt.scatter(norm_test_pred, norm_test_pred-test_label, c='lightgreen', marker='s', label='테스트 데이터')\n",
    "plt.hlines(y=0, xmin=-10, xmax=50, lw=2, color='r', linewidth=1) # 가로선 긋기\n",
    "plt.xlim([-10, 50])\n",
    "plt.title('[다중설명변수-주택가격] 잔차 분석 그림\\n')\n",
    "plt.xlabel('예측값')\n",
    "plt.ylabel('잔차')\n",
    "plt.show()"
   ]
  },
  {
   "cell_type": "code",
   "execution_count": 20,
   "metadata": {},
   "outputs": [],
   "source": [
    "norm_mse_train = mean_squared_error(tarin_label, norm_train_pred)\n",
    "norm_mse_test = mean_squared_error(test_label, norm_test_pred)\n",
    "\n",
    "norm_r2_score_train = r2_score(tarin_label, norm_train_pred)\n",
    "norm_r2_score_test = r2_score(test_label, norm_test_pred)"
   ]
  },
  {
   "cell_type": "code",
   "execution_count": 21,
   "metadata": {},
   "outputs": [
    {
     "name": "stdout",
     "output_type": "stream",
     "text": [
      "MSE - 트레이닝 데이터: 22.33, 테스트 데이터: 21.55\n",
      "R2 - 트레이닝 데이터: 0.74, 테스트 데이터: 0.73\n"
     ]
    }
   ],
   "source": [
    "print('MSE - 트레이닝 데이터: %.2f, 테스트 데이터: %.2f' %(norm_mse_train, norm_mse_test))\n",
    "print('R2 - 트레이닝 데이터: %.2f, 테스트 데이터: %.2f' %(norm_r2_score_train, norm_r2_score_test))"
   ]
  },
  {
   "cell_type": "code",
   "execution_count": null,
   "metadata": {},
   "outputs": [],
   "source": []
  }
 ],
 "metadata": {
  "kernelspec": {
   "display_name": "Python 3",
   "language": "python",
   "name": "python3"
  },
  "language_info": {
   "codemirror_mode": {
    "name": "ipython",
    "version": 3
   },
   "file_extension": ".py",
   "mimetype": "text/x-python",
   "name": "python",
   "nbconvert_exporter": "python",
   "pygments_lexer": "ipython3",
   "version": "3.7.6"
  }
 },
 "nbformat": 4,
 "nbformat_minor": 4
}
