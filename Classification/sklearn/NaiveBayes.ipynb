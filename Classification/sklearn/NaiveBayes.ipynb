{
 "cells": [
  {
   "cell_type": "code",
   "execution_count": 1,
   "metadata": {},
   "outputs": [],
   "source": [
    "from sklearn.datasets import fetch_20newsgroups\n",
    "from sklearn.feature_extraction.text import CountVectorizer\n",
    "from sklearn.feature_extraction.text import TfidfTransformer\n",
    "from sklearn.naive_bayes import MultinomialNB\n",
    "from sklearn.model_selection import train_test_split\n",
    "from sklearn.model_selection import GridSearchCV\n",
    "import numpy as np"
   ]
  },
  {
   "cell_type": "code",
   "execution_count": 2,
   "metadata": {},
   "outputs": [],
   "source": [
    "# 분류용 샘플 데이터 불러오기\n",
    "news = fetch_20newsgroups()\n",
    "X, y, labels = news.data, news.target, news.target_names\n",
    "\n",
    "# 학습/테스트 데이터셋 분할\n",
    "X_train, X_test, y_train, y_test = train_test_split(X, y, test_size=0.3, random_state=1, stratify=y)"
   ]
  },
  {
   "cell_type": "code",
   "execution_count": 3,
   "metadata": {},
   "outputs": [],
   "source": [
    "# 데이터 전처리(벡터화)\n",
    "vectorizer = CountVectorizer()\n",
    "tfid = TfidfTransformer()\n",
    "\n",
    "X_train_vec = vectorizer.fit_transform(X_train)\n",
    "X_test_vec = vectorizer.transform(X_test)\n",
    "\n",
    "X_train_tfid = tfid.fit_transform(X_train_vec)\n",
    "X_test_tfid = tfid.transform(X_test_vec)"
   ]
  },
  {
   "cell_type": "code",
   "execution_count": 4,
   "metadata": {},
   "outputs": [
    {
     "name": "stdout",
     "output_type": "stream",
     "text": [
      "베스트 하이퍼 파라미터: {'alpha': 0.01}\n",
      "베스트 하이퍼 파라미터 일 때 정확도: 0.89\n",
      "테스트세트에서의 정확도: 0.90\n",
      "실제 값: talk.politics.misc, 예측 값: talk.politics.misc\n",
      "실제 값: comp.sys.mac.hardware, 예측 값: comp.sys.mac.hardware\n",
      "실제 값: sci.crypt, 예측 값: sci.crypt\n",
      "실제 값: talk.politics.guns, 예측 값: talk.politics.guns\n",
      "실제 값: alt.atheism, 예측 값: alt.atheism\n",
      "실제 값: comp.windows.x, 예측 값: comp.windows.x\n",
      "실제 값: sci.electronics, 예측 값: misc.forsale\n",
      "실제 값: comp.sys.mac.hardware, 예측 값: comp.sys.mac.hardware\n",
      "실제 값: sci.space, 예측 값: sci.space\n",
      "실제 값: talk.politics.guns, 예측 값: talk.politics.guns\n"
     ]
    }
   ],
   "source": [
    "# 다중분류 나이브 베이브 + 그리드서치로 모델 학습\n",
    "nb = MultinomialNB()\n",
    "param_grid = [{'alpha': np.linspace(0.01, 1, 100)}]\n",
    "gs = GridSearchCV(estimator=nb, param_grid=param_grid, scoring='accuracy', cv=5, n_jobs=-1)\n",
    "gs.fit(X_train_tfid, y_train)\n",
    "\n",
    "# 그리드서치 학습 결과 출력\n",
    "print('베스트 하이퍼 파라미터: {0}'.format(gs.best_params_))\n",
    "print('베스트 하이퍼 파라미터 일 때 정확도: {0:.2f}'.format(gs.best_score_))\n",
    "\n",
    "# 최적화 모델 추출\n",
    "model = gs.best_estimator_\n",
    "\n",
    "# 테스트세트 정확도 출력\n",
    "score = model.score(X_test_tfid, y_test)\n",
    "print('테스트세트에서의 정확도: {0:.2f}'.format(score))\n",
    "\n",
    "# 테스트세트 예측 결과 샘플 출력\n",
    "predicted_y = model.predict(X_test_tfid)\n",
    "for i in range(10):\n",
    "    print('실제 값: {0}, 예측 값: {1}'.format(labels[y_test[i]], labels[predicted_y[i]]))"
   ]
  },
  {
   "cell_type": "code",
   "execution_count": null,
   "metadata": {},
   "outputs": [],
   "source": []
  }
 ],
 "metadata": {
  "kernelspec": {
   "display_name": "Python 3",
   "language": "python",
   "name": "python3"
  },
  "language_info": {
   "codemirror_mode": {
    "name": "ipython",
    "version": 3
   },
   "file_extension": ".py",
   "mimetype": "text/x-python",
   "name": "python",
   "nbconvert_exporter": "python",
   "pygments_lexer": "ipython3",
   "version": "3.7.6"
  }
 },
 "nbformat": 4,
 "nbformat_minor": 4
}
